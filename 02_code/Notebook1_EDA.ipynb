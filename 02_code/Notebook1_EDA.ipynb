{
 "cells": [
  {
   "cell_type": "markdown",
   "id": "excellent-sweden",
   "metadata": {},
   "source": [
    "# Jordan David Nalpon\n",
    "# GA - DSI 19 Capstone Project\n",
    "# EMOR (Emotion Recognition)\n",
    "# Notebook 1 - EDA\n",
    "---"
   ]
  },
  {
   "cell_type": "markdown",
   "id": "innocent-wales",
   "metadata": {},
   "source": [
    "## Index\n",
    "\n",
    "###  [Introduction](#introduction)\n",
    "   - [Executive Summary](#i_esum)\n",
    "   - [Problem Statement](#i_ps)\n",
    "   - [Materials](#i_mat)\n",
    "   - [Libraries](#i_lib)\n",
    "\n",
    "### [Set Up](#setup)\n",
    "- [Import Libraries](#su_lib)\n",
    "- [Import Images](#su_img)\n",
    "    - [Import Images - Creating List](#su_img_list)\n",
    "    - [Import Images - Observation](#su_img_obs)\n",
    "    \n",
    "### [Cleaning](#clean)\n",
    "- [Image Dataframe](#df_img)\n",
    "- [Face Recognition](#face)\n",
    "- [Face Recognition - Post Observation](#face_post)\n",
    "\n",
    "### [Exporting](#export)\n",
    "- [CSV Export](#csv)\n",
    "- [Copying of Files](#copy)\n",
    "\n",
    "\n",
    "---"
   ]
  },
  {
   "cell_type": "markdown",
   "id": "royal-playlist",
   "metadata": {},
   "source": [
    "<a name=\"introduction\"></a>\n",
    "### Introduction\n",
    "\n",
    "#### Executive Summary <a name=\"i_esum\"></a>\n",
    "Children with Autism often find it hard to recognise and manage emotions which can result in a lot of problems as they grow. This can result unnecessary miscommunication, confusion and confrontations. \n",
    "\n",
    "#### Problem Statement <a name=\"i_ps\"></a>\n",
    "One of the major problems faced by people with Autism is reading facial emotions and reacting accordingly. Currently children with Autism are being trained in schools to read emotions with still images, photographs and mirrors to understand and learn about facial emotions. However, there is a jump between school environment to the real world on reading emotions. The goal of this project is to reduce the gap between the school environment and the real world to help better equip the students.\n",
    "\n",
    "#### Materials <a name=\"i_mat\"></a>\n",
    "The main dataset used in this project is from the Kaggle project, \"[Face expression recognition dataset](https://www.kaggle.com/jonathanoheix/face-expression-recognition-dataset)\". The dataset incldues a training and validation set of 7 emotions; angry, disgust, fear, happy, neutral, sad and surprise.\n",
    "\n",
    "#### Libraries <a name=\"i_lib\"></a>\n",
    "\n",
    "Below are the major libraries used for this project. Please refer to the attached notebook for the full list of libraries and versions.\n",
    "\n",
    "- fastai\n",
    "- dlib\n",
    "- OpenCV\n",
    "- imutils\n",
    "- face_recognition\n",
    "- pytorch\n",
    "- numpy\n",
    "- pandas\n",
    "---"
   ]
  },
  {
   "cell_type": "markdown",
   "id": "medieval-condition",
   "metadata": {},
   "source": [
    "<a name=\"setup\"></a>\n",
    "## Set Up\n",
    "This section is to import libraries and the images."
   ]
  },
  {
   "cell_type": "markdown",
   "id": "lightweight-barbados",
   "metadata": {},
   "source": [
    "### Import Libraries <a name=\"su_lib\"></a>"
   ]
  },
  {
   "cell_type": "code",
   "execution_count": 8,
   "id": "polish-registration",
   "metadata": {},
   "outputs": [],
   "source": [
    "#libraries\n",
    "import face_recognition\n",
    "import numpy as np\n",
    "import pandas as pd\n",
    "import os\n",
    "import matplotlib.pyplot as plt\n",
    "\n",
    "from shutil import copyfile\n",
    "\n",
    "from IPython.display import Image"
   ]
  },
  {
   "cell_type": "markdown",
   "id": "fuzzy-newsletter",
   "metadata": {},
   "source": [
    "### Import Images <a name=\"su_img\"></a>\n",
    "\n",
    "The images are jpg files that are sorted into 7 different emotions; angry, disgust, fear, happy, neutral, sad and surprise. They will need to be processed to be used in our model later"
   ]
  },
  {
   "cell_type": "code",
   "execution_count": 9,
   "id": "automated-machine",
   "metadata": {},
   "outputs": [],
   "source": [
    "path = os.getcwd()"
   ]
  },
  {
   "cell_type": "markdown",
   "id": "developed-stocks",
   "metadata": {},
   "source": [
    "### Import Images - Creating List <a name=\"su_img_list\"></a>\n",
    "The codes below will loop through the images in each folder and create a list containing the image names for each emotions in the training and validation set."
   ]
  },
  {
   "cell_type": "markdown",
   "id": "satellite-capture",
   "metadata": {},
   "source": [
    "#### Train Set"
   ]
  },
  {
   "cell_type": "code",
   "execution_count": 10,
   "id": "missing-narrow",
   "metadata": {},
   "outputs": [],
   "source": [
    "#set overall directory to the train emotion\n",
    "dir_origin = '../05_external_folder/images/train/'\n",
    "\n",
    "dir_emo = 'angry'\n",
    "directory = os.fsencode('../05_external_folder/images/train/' + dir_emo) #set specific directory to each emotion\n",
    "emo_train_angry = [] #empty list to contain image names\n",
    "for file in os.listdir(directory): #loop through files in the folder\n",
    "     filename = os.fsdecode(file) # get the file name\n",
    "     if filename.endswith(\".jpg\"): #get names of jpg files\n",
    "         emo_train_angry.append(filename) #append list with jpg file name\n",
    "\n",
    "            \n",
    "dir_emo = 'disgust'\n",
    "directory = os.fsencode('../05_external_folder/images/train/' + dir_emo)\n",
    "emo_train_disgust = []   \n",
    "for file in os.listdir(directory):\n",
    "     filename = os.fsdecode(file)\n",
    "     if filename.endswith(\".jpg\"): \n",
    "         emo_train_disgust.append(filename)\n",
    "            \n",
    "dir_emo = 'fear'\n",
    "directory = os.fsencode('../05_external_folder/images/train/' + dir_emo)\n",
    "emo_train_fear = []   \n",
    "for file in os.listdir(directory):\n",
    "     filename = os.fsdecode(file)\n",
    "     if filename.endswith(\".jpg\"): \n",
    "         emo_train_fear.append(filename)\n",
    "\n",
    "dir_emo = 'happy'\n",
    "directory = os.fsencode('../05_external_folder/images/train/' + dir_emo)\n",
    "emo_train_happy = []   \n",
    "for file in os.listdir(directory):\n",
    "     filename = os.fsdecode(file)\n",
    "     if filename.endswith(\".jpg\"): \n",
    "         emo_train_happy.append(filename)\n",
    "            \n",
    "dir_emo = 'neutral'\n",
    "directory = os.fsencode('../05_external_folder/images/train/' + dir_emo)\n",
    "emo_train_neutral = []   \n",
    "for file in os.listdir(directory):\n",
    "     filename = os.fsdecode(file)\n",
    "     if filename.endswith(\".jpg\"): \n",
    "         emo_train_neutral.append(filename)\n",
    "\n",
    "dir_emo = 'sad'\n",
    "directory = os.fsencode('../05_external_folder/images/train/' + dir_emo)\n",
    "emo_train_sad = []   \n",
    "for file in os.listdir(directory):\n",
    "     filename = os.fsdecode(file)\n",
    "     if filename.endswith(\".jpg\"): \n",
    "         emo_train_sad.append(filename)\n",
    "\n",
    "dir_emo = 'surprise'\n",
    "directory = os.fsencode('../05_external_folder/images/train/' + dir_emo)\n",
    "emo_train_surprise = []   \n",
    "for file in os.listdir(directory):\n",
    "     filename = os.fsdecode(file)\n",
    "     if filename.endswith(\".jpg\"): \n",
    "         emo_train_surprise.append(filename)"
   ]
  },
  {
   "cell_type": "markdown",
   "id": "sapphire-newman",
   "metadata": {},
   "source": [
    "#### Validation Set"
   ]
  },
  {
   "cell_type": "code",
   "execution_count": 11,
   "id": "finite-seeker",
   "metadata": {},
   "outputs": [],
   "source": [
    "#same process as above but for validation set\n",
    "dir_origin = '../05_external_folder/images/validation/'\n",
    "\n",
    "dir_emo = 'angry'\n",
    "directory = os.fsencode('../05_external_folder/images/validation/' + dir_emo)\n",
    "\n",
    "emo_val_angry = []   \n",
    "for file in os.listdir(directory):\n",
    "     filename = os.fsdecode(file)\n",
    "     if filename.endswith(\".jpg\"): \n",
    "         emo_val_angry.append(filename)\n",
    "            \n",
    "dir_emo = 'disgust'\n",
    "directory = os.fsencode('../05_external_folder/images/validation/' + dir_emo)\n",
    "\n",
    "emo_val_disgust = []   \n",
    "for file in os.listdir(directory):\n",
    "     filename = os.fsdecode(file)\n",
    "     if filename.endswith(\".jpg\"): \n",
    "         emo_val_disgust.append(filename)\n",
    "\n",
    "            \n",
    "dir_emo = 'fear'\n",
    "directory = os.fsencode('../05_external_folder/images/validation/' + dir_emo)\n",
    "\n",
    "emo_val_fear = []   \n",
    "for file in os.listdir(directory):\n",
    "     filename = os.fsdecode(file)\n",
    "     if filename.endswith(\".jpg\"): \n",
    "         emo_val_fear.append(filename)\n",
    "\n",
    "dir_emo = 'happy'\n",
    "directory = os.fsencode('../05_external_folder/images/validation/' + dir_emo)\n",
    "\n",
    "emo_val_happy = []   \n",
    "for file in os.listdir(directory):\n",
    "     filename = os.fsdecode(file)\n",
    "     if filename.endswith(\".jpg\"): \n",
    "         emo_val_happy.append(filename)\n",
    "\n",
    "dir_emo = 'neutral'\n",
    "directory = os.fsencode('../05_external_folder/images/validation/' + dir_emo)\n",
    "\n",
    "emo_val_neutral = []   \n",
    "for file in os.listdir(directory):\n",
    "     filename = os.fsdecode(file)\n",
    "     if filename.endswith(\".jpg\"): \n",
    "         emo_val_neutral.append(filename)\n",
    "\n",
    "            \n",
    "dir_emo = 'sad'\n",
    "directory = os.fsencode('../05_external_folder/images/validation/' + dir_emo)\n",
    "\n",
    "emo_val_sad = []   \n",
    "for file in os.listdir(directory):\n",
    "     filename = os.fsdecode(file)\n",
    "     if filename.endswith(\".jpg\"): \n",
    "         emo_val_sad.append(filename)\n",
    "\n",
    "dir_emo = 'surprise'\n",
    "directory = os.fsencode('../05_external_folder/images/validation/' + dir_emo)\n",
    "\n",
    "emo_val_surprise = []   \n",
    "for file in os.listdir(directory):\n",
    "     filename = os.fsdecode(file)\n",
    "     if filename.endswith(\".jpg\"): \n",
    "         emo_val_surprise.append(filename)"
   ]
  },
  {
   "cell_type": "markdown",
   "id": "spiritual-school",
   "metadata": {},
   "source": [
    "### Import Images - Observation <a name=\"su_img_obs\"></a>\n",
    "A quick glance at the number of images in the folders"
   ]
  },
  {
   "cell_type": "code",
   "execution_count": 12,
   "id": "hindu-coordinator",
   "metadata": {},
   "outputs": [
    {
     "name": "stdout",
     "output_type": "stream",
     "text": [
      "Before Cleaning Train\n",
      "Angry:  3993\n",
      "Disgust:  436\n",
      "Fear:  4103\n",
      "Happy:  7164\n",
      "Neutral:  4982\n",
      "Sad:  4938\n",
      "Surprise:  3205\n"
     ]
    }
   ],
   "source": [
    "print('Before Cleaning Train')\n",
    "print(\"Angry: \", len(emo_train_angry))\n",
    "print(\"Disgust: \", len(emo_train_disgust))\n",
    "print(\"Fear: \", len(emo_train_fear))\n",
    "print(\"Happy: \", len(emo_train_happy))\n",
    "print(\"Neutral: \", len(emo_train_neutral))\n",
    "print(\"Sad: \", len(emo_train_sad))\n",
    "print(\"Surprise: \", len(emo_train_surprise))"
   ]
  },
  {
   "cell_type": "code",
   "execution_count": 13,
   "id": "controversial-savage",
   "metadata": {},
   "outputs": [
    {
     "name": "stdout",
     "output_type": "stream",
     "text": [
      "Before Cleaning Validation\n",
      "Angry:  960\n",
      "Disgust:  111\n",
      "Fear:  1018\n",
      "Happy:  1825\n",
      "Neutral:  1216\n",
      "Sad:  1139\n",
      "Surprise:  797\n"
     ]
    }
   ],
   "source": [
    "print('Before Cleaning Validation')\n",
    "print(\"Angry: \", len(emo_val_angry))\n",
    "print(\"Disgust: \", len(emo_val_disgust))\n",
    "print(\"Fear: \", len(emo_val_fear))\n",
    "print(\"Happy: \", len(emo_val_happy))\n",
    "print(\"Neutral: \", len(emo_val_neutral))\n",
    "print(\"Sad: \", len(emo_val_sad))\n",
    "print(\"Surprise: \", len(emo_val_surprise))"
   ]
  },
  {
   "cell_type": "markdown",
   "id": "legendary-bermuda",
   "metadata": {},
   "source": [
    "However a quick glance into the images reveal that some of the images are not faces which needs to be removed.\n",
    "<img src='notebook_img/not_faces.jpg' width='1390' height='603'>"
   ]
  },
  {
   "cell_type": "markdown",
   "id": "relevant-consistency",
   "metadata": {},
   "source": [
    "## Cleaning <a name=\"df_img\"></a>\n",
    "This section is the cleaning process of the dataset with the face_recognition as the primary cleaning tool for the images."
   ]
  },
  {
   "cell_type": "markdown",
   "id": "necessary-philip",
   "metadata": {},
   "source": [
    "### Image Dataframes <a name=\"df_img\"></a>\n",
    "As there are several images to process through, the face_recognition library will be used to mark which images does not appear to have a face to the library. A dataframe will be created for all the emotions in the train and validation sets with a boolean 'value' column which True indicates face and False means there isn't according to the face_recognition library."
   ]
  },
  {
   "cell_type": "code",
   "execution_count": 14,
   "id": "wound-values",
   "metadata": {},
   "outputs": [],
   "source": [
    "# training set of emotions\n",
    "df_train_angry = pd.DataFrame(emo_train_angry,columns = ['file_name']) # create dataframe\n",
    "df_train_angry['value'] = '' #creating additional 'value' column in the dataframe\n",
    "df_train_disgust = pd.DataFrame(emo_train_disgust,columns = ['file_name'])\n",
    "df_train_disgust['value'] = ''\n",
    "df_train_fear = pd.DataFrame(emo_train_fear,columns = ['file_name'])\n",
    "df_train_fear['value'] = ''\n",
    "df_train_happy = pd.DataFrame(emo_train_happy,columns = ['file_name'])\n",
    "df_train_happy['value'] = ''\n",
    "df_train_neutral = pd.DataFrame(emo_train_neutral,columns = ['file_name'])\n",
    "df_train_neutral['value'] = ''\n",
    "df_train_sad = pd.DataFrame(emo_train_sad,columns = ['file_name'])\n",
    "df_train_sad['value'] = ''\n",
    "df_train_surprise = pd.DataFrame(emo_train_surprise,columns = ['file_name'])\n",
    "df_train_surprise['value'] = ''"
   ]
  },
  {
   "cell_type": "code",
   "execution_count": 15,
   "id": "empty-detection",
   "metadata": {},
   "outputs": [],
   "source": [
    "#validation set of emotions\n",
    "df_val_angry = pd.DataFrame(emo_val_angry,columns = ['file_name'])\n",
    "df_val_angry['value'] = ''\n",
    "df_val_disgust = pd.DataFrame(emo_val_disgust,columns = ['file_name'])\n",
    "df_val_disgust['value'] = ''\n",
    "df_val_fear = pd.DataFrame(emo_val_fear,columns = ['file_name'])\n",
    "df_val_fear['value'] = ''\n",
    "df_val_happy = pd.DataFrame(emo_val_happy,columns = ['file_name'])\n",
    "df_val_happy['value'] = ''\n",
    "df_val_neutral = pd.DataFrame(emo_val_neutral,columns = ['file_name'])\n",
    "df_val_neutral['value'] = ''\n",
    "df_val_sad = pd.DataFrame(emo_val_sad,columns = ['file_name'])\n",
    "df_val_sad['value'] = ''\n",
    "df_val_surprise = pd.DataFrame(emo_val_surprise,columns = ['file_name'])\n",
    "df_val_surprise['value'] = ''"
   ]
  },
  {
   "cell_type": "markdown",
   "id": "handed-swedish",
   "metadata": {},
   "source": [
    "### Face Recognition <a name=\"face\"></a>\n",
    "The face recognition library uses the dlib face recognition with deep learning. It has a 99.38% on [Labeled Faces in the Wild](http://vis-www.cs.umass.edu/lfw/) benchmark.\n",
    "\n",
    "It helps to point out if there are faces in the images by locating the eyes,nose, mouth and chin in the image. So images with side profiles or anything to hide face features may result in a false negative.\n",
    "\n",
    "However, the face recognition will be used to remove all the true negatives from the dataset."
   ]
  },
  {
   "cell_type": "code",
   "execution_count": 16,
   "id": "popular-customer",
   "metadata": {},
   "outputs": [],
   "source": [
    "# the function below will loop through the dataframes, get the image name,\n",
    "# set path to the image and send it through the face_recognition library\n",
    "# the result of the process will be recorded in the 'value' column in the dataframes\n",
    "\n",
    "def face_checker(dataframe,train_val,emotion): # train_val sets if its train or val set\n",
    "    for index,img in enumerate(dataframe['file_name']):\n",
    "        df_path = '../05_external_folder/images/'+ train_val + '/' + emotion + '/' + img\n",
    "        image = face_recognition.load_image_file(df_path)\n",
    "        face_locations = face_recognition.face_locations(image)\n",
    "\n",
    "        if len(face_locations) == 1:\n",
    "            dataframe['value'][index] = True\n",
    "        else:\n",
    "            dataframe['value'][index] = False"
   ]
  },
  {
   "cell_type": "code",
   "execution_count": 17,
   "id": "hungry-herald",
   "metadata": {},
   "outputs": [],
   "source": [
    "#setting the train sets through the function\n",
    "face_checker(df_train_angry,'train', 'angry')\n",
    "face_checker(df_train_disgust,'train', 'disgust')\n",
    "face_checker(df_train_fear,'train', 'fear')\n",
    "face_checker(df_train_happy,'train', 'happy')\n",
    "face_checker(df_train_neutral,'train', 'neutral')\n",
    "face_checker(df_train_sad,'train', 'sad')\n",
    "face_checker(df_train_surprise,'train', 'surprise')"
   ]
  },
  {
   "cell_type": "code",
   "execution_count": 18,
   "id": "brave-serbia",
   "metadata": {},
   "outputs": [],
   "source": [
    "# setting the validation sets through the function\n",
    "face_checker(df_val_angry,'validation', 'angry')\n",
    "face_checker(df_val_disgust,'validation', 'disgust')\n",
    "face_checker(df_val_fear,'validation', 'fear')\n",
    "face_checker(df_val_happy,'validation', 'happy')\n",
    "face_checker(df_val_neutral,'validation', 'neutral')\n",
    "face_checker(df_val_sad,'validation', 'sad')\n",
    "face_checker(df_val_surprise,'validation', 'surprise')"
   ]
  },
  {
   "cell_type": "markdown",
   "id": "pointed-gateway",
   "metadata": {},
   "source": [
    "### Face Recognition - Post Observation <a name=\"face_post\"></a>\n",
    "Below we can compare the difference before and after face_recognition was used. The false negative images will need to be manually shifted between the folders."
   ]
  },
  {
   "cell_type": "code",
   "execution_count": 25,
   "id": "acute-frederick",
   "metadata": {},
   "outputs": [
    {
     "name": "stdout",
     "output_type": "stream",
     "text": [
      "Before Cleaning Train\n",
      "Angry:  3993\n",
      "Disgust:  436\n",
      "Fear:  4103\n",
      "Happy:  7164\n",
      "Neutral:  4982\n",
      "Sad:  4938\n",
      "Surprise:  3205\n"
     ]
    }
   ],
   "source": [
    "print('Before Cleaning Train')\n",
    "print(\"Angry: \", len(emo_train_angry)) \n",
    "print(\"Disgust: \", len(emo_train_disgust))\n",
    "print(\"Fear: \", len(emo_train_fear))\n",
    "print(\"Happy: \", len(emo_train_happy))\n",
    "print(\"Neutral: \", len(emo_train_neutral))\n",
    "print(\"Sad: \", len(emo_train_sad))\n",
    "print(\"Surprise: \", len(emo_train_surprise))"
   ]
  },
  {
   "cell_type": "code",
   "execution_count": 20,
   "id": "aggressive-classic",
   "metadata": {},
   "outputs": [
    {
     "name": "stdout",
     "output_type": "stream",
     "text": [
      "After Cleaning train\n",
      "Angry:  2736\n",
      "Disgust:  338\n",
      "Fear:  2542\n",
      "Happy:  5555\n",
      "Neutral:  3720\n",
      "Sad:  2694\n",
      "Surprise:  2390\n"
     ]
    }
   ],
   "source": [
    "print('After Cleaning train')\n",
    "print(\"Angry: \", df_train_angry['value'].sum())\n",
    "print(\"Disgust: \", df_train_disgust['value'].sum())\n",
    "print(\"Fear: \", df_train_fear['value'].sum())\n",
    "print(\"Happy: \", df_train_happy['value'].sum())\n",
    "print(\"Neutral: \", df_train_neutral['value'].sum())\n",
    "print(\"Sad: \", df_train_sad['value'].sum())\n",
    "print(\"Surprise: \", df_train_surprise['value'].sum())"
   ]
  },
  {
   "cell_type": "code",
   "execution_count": 22,
   "id": "unexpected-robertson",
   "metadata": {},
   "outputs": [
    {
     "name": "stdout",
     "output_type": "stream",
     "text": [
      "Before Cleaning Validation\n",
      "Angry:  960\n",
      "Disgust:  111\n",
      "Fear:  1018\n",
      "Happy:  1825\n",
      "Neutral:  1216\n",
      "Sad:  1139\n",
      "Surprise:  797\n"
     ]
    }
   ],
   "source": [
    "print('Before Cleaning Validation')\n",
    "print(\"Angry: \", len(emo_val_angry))\n",
    "print(\"Disgust: \", len(emo_val_disgust))\n",
    "print(\"Fear: \", len(emo_val_fear))\n",
    "print(\"Happy: \", len(emo_val_happy))\n",
    "print(\"Neutral: \", len(emo_val_neutral))\n",
    "print(\"Sad: \", len(emo_val_sad))\n",
    "print(\"Surprise: \", len(emo_val_surprise))"
   ]
  },
  {
   "cell_type": "code",
   "execution_count": 23,
   "id": "essential-stretch",
   "metadata": {},
   "outputs": [
    {
     "name": "stdout",
     "output_type": "stream",
     "text": [
      "After Cleaning validation\n",
      "Angry:  663\n",
      "Disgust:  89\n",
      "Fear:  641\n",
      "Happy:  1431\n",
      "Neutral:  942\n",
      "Sad:  635\n",
      "Surprise:  579\n"
     ]
    }
   ],
   "source": [
    "print('After Cleaning validation')\n",
    "print(\"Angry: \", df_val_angry['value'].sum())\n",
    "print(\"Disgust: \", df_val_disgust['value'].sum())\n",
    "print(\"Fear: \", df_val_fear['value'].sum())\n",
    "print(\"Happy: \", df_val_happy['value'].sum())\n",
    "print(\"Neutral: \", df_val_neutral['value'].sum())\n",
    "print(\"Sad: \", df_val_sad['value'].sum())\n",
    "print(\"Surprise: \", df_val_surprise['value'].sum())"
   ]
  },
  {
   "cell_type": "markdown",
   "id": "spoken-brother",
   "metadata": {},
   "source": [
    "## Export <a name=\"export\"></a>\n",
    "\n",
    "This section handles the export process of our clean dataset and prep the materials needed for the next notebook."
   ]
  },
  {
   "cell_type": "markdown",
   "id": "wooden-victoria",
   "metadata": {},
   "source": [
    "### CSV Export <a name=\"csv\"></a>\n",
    "Export the dataframes of the emotions along with the results of the face_recognition to csv files as a checkpoint for the notebook."
   ]
  },
  {
   "cell_type": "code",
   "execution_count": 16,
   "id": "infrared-alignment",
   "metadata": {},
   "outputs": [],
   "source": [
    "#export dataframe to csv\n",
    "df_train_angry.to_csv('../01_materials/exported_materials/images_csv/train/df_train_angry.csv', index=False)\n",
    "df_train_disgust.to_csv('../01_materials/exported_materials/images_csv/train/df_train_digust.csv', index=False)\n",
    "df_train_fear.to_csv('../01_materials/exported_materials/images_csv/train/df_train_fear.csv', index=False)\n",
    "df_train_happy.to_csv('../01_materials/exported_materials/images_csv/train/df_train_happy.csv', index=False)\n",
    "df_train_neutral.to_csv('../01_materials/exported_materials/images_csv/train/df_train_neutral.csv', index=False)\n",
    "df_train_sad.to_csv('../01_materials/exported_materials/images_csv/train/df_train_sad.csv', index=False)\n",
    "df_train_surprise.to_csv('../01_materials/exported_materials/images_csv/train/df_train_surprise.csv', index=False)\n",
    "\n",
    "df_val_angry.to_csv('../01_materials/exported_materials/images_csv/validation/df_val_angry.csv', index=False)\n",
    "df_val_disgust.to_csv('../01_materials/exported_materials/images_csv/validation/df_val_digust.csv', index=False)\n",
    "df_val_fear.to_csv('../01_materials/exported_materials/images_csv/validation/df_val_fear.csv', index=False)\n",
    "df_val_happy.to_csv('../01_materials/exported_materials/images_csv/validation/df_val_happy.csv', index=False)\n",
    "df_val_neutral.to_csv('../01_materials/exported_materials/images_csv/validation/df_val_neutral.csv', index=False)\n",
    "df_val_sad.to_csv('../01_materials/exported_materials/images_csv/validation/df_val_sad.csv', index=False)\n",
    "df_val_surprise.to_csv('../01_materials/exported_materials/images_csv/validation/df_val_surprise.csv', index=False)"
   ]
  },
  {
   "cell_type": "code",
   "execution_count": 27,
   "id": "exposed-frost",
   "metadata": {},
   "outputs": [],
   "source": [
    "#reading of csv files\n",
    "df_train_angry = pd.read_csv('../01_materials/exported_materials/images_csv/train/df_train_angry.csv')\n",
    "df_train_disgust = pd.read_csv('../01_materials/exported_materials/images_csv/train/df_train_digust.csv')\n",
    "df_train_fear = pd.read_csv('../01_materials/exported_materials/images_csv/train/df_train_fear.csv')\n",
    "df_train_happy = pd.read_csv('../01_materials/exported_materials/images_csv/train/df_train_happy.csv')\n",
    "df_train_neutral = pd.read_csv('../01_materials/exported_materials/images_csv/train/df_train_neutral.csv')\n",
    "df_train_sad = pd.read_csv('../01_materials/exported_materials/images_csv/train/df_train_sad.csv')\n",
    "df_train_surprise = pd.read_csv('../01_materials/exported_materials/images_csv/train/df_train_surprise.csv')\n",
    "\n",
    "df_val_angry = pd.read_csv('../01_materials/exported_materials/images_csv/validation/df_val_angry.csv')\n",
    "df_val_disgust = pd.read_csv('../01_materials/exported_materials/images_csv/validation/df_val_digust.csv')\n",
    "df_val_fear = pd.read_csv('../01_materials/exported_materials/images_csv/validation/df_val_fear.csv')\n",
    "df_val_happy = pd.read_csv('../01_materials/exported_materials/images_csv/validation/df_val_happy.csv')\n",
    "df_val_neutral = pd.read_csv('../01_materials/exported_materials/images_csv/validation/df_val_neutral.csv')\n",
    "df_val_sad = pd.read_csv('../01_materials/exported_materials/images_csv/validation/df_val_sad.csv')\n",
    "df_val_surprise = pd.read_csv('../01_materials/exported_materials/images_csv/validation/df_val_surprise.csv')"
   ]
  },
  {
   "cell_type": "markdown",
   "id": "compressed-gates",
   "metadata": {},
   "source": [
    "### Copying of Files <a name=\"copy\"></a>\n",
    "\n",
    "Using the 'value' column in the dataframes, copies of the images will be inserted into the positive and negative folders. The positive fold contains images that passed through the face_recognition library while the negative folder will be used to check for any false positives."
   ]
  },
  {
   "cell_type": "code",
   "execution_count": 28,
   "id": "covered-kitty",
   "metadata": {},
   "outputs": [],
   "source": [
    "# new dataframe containing all True value rows\n",
    "pos_train_angry = df_train_angry[df_train_angry['value'] == True]['file_name']\n",
    "pos_train_disgust = df_train_disgust[df_train_disgust['value'] == True]['file_name']\n",
    "pos_train_fear = df_train_fear[df_train_fear['value'] == True]['file_name']\n",
    "pos_train_happy = df_train_happy[df_train_happy['value'] == True]['file_name']\n",
    "pos_train_neutral = df_train_neutral[df_train_neutral['value'] == True]['file_name']\n",
    "pos_train_sad = df_train_sad[df_train_sad['value'] == True]['file_name']\n",
    "pos_train_surprise = df_train_surprise[df_train_surprise['value'] == True]['file_name']\n",
    "\n",
    "pos_val_angry = df_val_angry[df_val_angry['value'] == True]['file_name']\n",
    "pos_val_disgust = df_val_disgust[df_val_disgust['value'] == True]['file_name']\n",
    "pos_val_fear = df_val_fear[df_val_fear['value'] == True]['file_name']\n",
    "pos_val_happy = df_val_happy[df_val_happy['value'] == True]['file_name']\n",
    "pos_val_neutral = df_val_neutral[df_val_neutral['value'] == True]['file_name']\n",
    "pos_val_sad = df_val_sad[df_val_sad['value'] == True]['file_name']\n",
    "pos_val_surprise = df_val_surprise[df_val_surprise['value'] == True]['file_name']"
   ]
  },
  {
   "cell_type": "code",
   "execution_count": 29,
   "id": "joined-pittsburgh",
   "metadata": {},
   "outputs": [],
   "source": [
    "# new dataframe containing all False value rows\n",
    "neg_train_angry = df_train_angry[df_train_angry['value'] == False]['file_name']\n",
    "neg_train_disgust = df_train_disgust[df_train_disgust['value'] == False]['file_name']\n",
    "neg_train_fear = df_train_fear[df_train_fear['value'] == False]['file_name']\n",
    "neg_train_happy = df_train_happy[df_train_happy['value'] == False]['file_name']\n",
    "neg_train_neutral = df_train_neutral[df_train_neutral['value'] == False]['file_name']\n",
    "neg_train_sad = df_train_sad[df_train_sad['value'] == False]['file_name']\n",
    "neg_train_surprise = df_train_surprise[df_train_surprise['value'] == False]['file_name']\n",
    "\n",
    "neg_val_angry = df_val_angry[df_val_angry['value'] == False]['file_name']\n",
    "neg_val_disgust = df_val_disgust[df_val_disgust['value'] == False]['file_name']\n",
    "neg_val_fear = df_val_fear[df_val_fear['value'] == False]['file_name']\n",
    "neg_val_happy = df_val_happy[df_val_happy['value'] == False]['file_name']\n",
    "neg_val_neutral = df_val_neutral[df_val_neutral['value'] == False]['file_name']\n",
    "neg_val_sad = df_val_sad[df_val_sad['value'] == False]['file_name']\n",
    "neg_val_surprise = df_val_surprise[df_val_surprise['value'] == False]['file_name']"
   ]
  },
  {
   "cell_type": "markdown",
   "id": "ethical-scholarship",
   "metadata": {},
   "source": [
    "### <font color=red> Below codes are commented to prevent multiple copying of files. Uncomment them to run the code."
   ]
  },
  {
   "cell_type": "markdown",
   "id": "confirmed-fashion",
   "metadata": {},
   "source": [
    "The code below will loop through the new dataframes created above and copy the images into a seperate folder which will be used in the next notebook."
   ]
  },
  {
   "cell_type": "code",
   "execution_count": 33,
   "id": "olympic-count",
   "metadata": {},
   "outputs": [],
   "source": [
    "# #copy negative train images to separate folder\n",
    "# for name in neg_train_angry:\n",
    "#     copyfile(f\"../05_external_folder/images/train/angry/{name}\",f\"../05_external_folder/negative_images/train/angry/{name}\")\n",
    "# for name in neg_train_disgust:\n",
    "#     copyfile(f\"../05_external_folder/images/train/disgust/{name}\",f\"../05_external_folder/negative_images/train/disgust/{name}\")\n",
    "# for name in neg_train_fear:\n",
    "#     copyfile(f\"../05_external_folder/images/train/fear/{name}\",f\"../05_external_folder/negative_images/train/fear/{name}\")\n",
    "# for name in neg_train_happy:\n",
    "#     copyfile(f\"../05_external_folder/images/train/happy/{name}\",f\"../05_external_folder/negative_images/train/happy/{name}\")\n",
    "# for name in neg_train_neutral:\n",
    "#     copyfile(f\"../05_external_folder/images/train/neutral/{name}\",f\"../05_external_folder/negative_images/train/neutral/{name}\")\n",
    "# for name in neg_train_sad:\n",
    "#     copyfile(f\"../05_external_folder/images/train/sad/{name}\",f\"../05_external_folder/negative_images/train/sad/{name}\")\n",
    "# for name in neg_train_surprise:\n",
    "#     copyfile(f\"../05_external_folder/images/train/surprise/{name}\",f\"../05_external_folder/negative_images/train/surprise/{name}\")\n"
   ]
  },
  {
   "cell_type": "code",
   "execution_count": 34,
   "id": "sonic-brown",
   "metadata": {},
   "outputs": [],
   "source": [
    "# #copy negative validation images to separate folder\n",
    "# for name in neg_val_angry:\n",
    "#     copyfile(f\"../05_external_folder/images/validation/angry/{name}\",f\"../05_external_folder/negative_images/validation/angry/{name}\")\n",
    "# for name in neg_val_disgust:\n",
    "#     copyfile(f\"../05_external_folder/images/validation/disgust/{name}\",f\"../05_external_folder/negative_images/validation/disgust/{name}\")\n",
    "# for name in neg_val_fear:\n",
    "#     copyfile(f\"../05_external_folder/images/validation/fear/{name}\",f\"../05_external_folder/negative_images/validation/fear/{name}\")\n",
    "# for name in neg_val_happy:\n",
    "#     copyfile(f\"../05_external_folder/images/validation/happy/{name}\",f\"../05_external_folder/negative_images/validation/happy/{name}\")\n",
    "# for name in neg_val_neutral:\n",
    "#     copyfile(f\"../05_external_folder/images/validation/neutral/{name}\",f\"../05_external_folder/negative_images/validation/neutral/{name}\")\n",
    "# for name in neg_val_sad:\n",
    "#     copyfile(f\"../05_external_folder/images/validation/sad/{name}\",f\"../05_external_folder/negative_images/validation/sad/{name}\")\n",
    "# for name in neg_val_surprise:\n",
    "#     copyfile(f\"../05_external_folder/images/validation/surprise/{name}\",f\"../05_external_folder/negative_images/validation/surprise/{name}\")\n"
   ]
  },
  {
   "cell_type": "code",
   "execution_count": 35,
   "id": "listed-liverpool",
   "metadata": {},
   "outputs": [],
   "source": [
    "# #copy postivie train images to separate folder\n",
    "# for name in pos_train_angry:\n",
    "#     copyfile(f\"../05_external_folder/images/train/angry/{name}\",f\"../05_external_folder/positive_images/train/angry/{name}\")\n",
    "# for name in pos_train_disgust:\n",
    "#     copyfile(f\"../05_external_folder/images/train/disgust/{name}\",f\"../05_external_folder/positive_images/train/disgust/{name}\")\n",
    "# for name in pos_train_fear:\n",
    "#     copyfile(f\"../05_external_folder/images/train/fear/{name}\",f\"../05_external_folder/positive_images/train/fear/{name}\")\n",
    "# for name in pos_train_happy:\n",
    "#     copyfile(f\"../05_external_folder/images/train/happy/{name}\",f\"../05_external_folder/positive_images/train/happy/{name}\")\n",
    "# for name in pos_train_neutral:\n",
    "#     copyfile(f\"../05_external_folder/images/train/neutral/{name}\",f\"../05_external_folder/positive_images/train/neutral/{name}\")\n",
    "# for name in pos_train_sad:\n",
    "#     copyfile(f\"../05_external_folder/images/train/sad/{name}\",f\"../05_external_folder/positive_images/train/sad/{name}\")\n",
    "# for name in pos_train_surprise:\n",
    "#     copyfile(f\"../05_external_folder/images/train/surprise/{name}\",f\"../05_external_folder/positive_images/train/surprise/{name}\")\n"
   ]
  },
  {
   "cell_type": "code",
   "execution_count": 36,
   "id": "organized-radius",
   "metadata": {},
   "outputs": [],
   "source": [
    "# #copy positive validation images to separate folder\n",
    "# for name in pos_val_angry:\n",
    "#     copyfile(f\"../05_external_folder/images/validation/angry/{name}\",f\"../05_external_folder/positive_images/validation/angry/{name}\")\n",
    "# for name in pos_val_disgust:\n",
    "#     copyfile(f\"../05_external_folder/images/validation/disgust/{name}\",f\"../05_external_folder/positive_images/validation/disgust/{name}\")\n",
    "# for name in pos_val_fear:\n",
    "#     copyfile(f\"../05_external_folder/images/validation/fear/{name}\",f\"../05_external_folder/positive_images/validation/fear/{name}\")\n",
    "# for name in pos_val_happy:\n",
    "#     copyfile(f\"../05_external_folder/images/validation/happy/{name}\",f\"../05_external_folder/positive_images/validation/happy/{name}\")\n",
    "# for name in pos_val_neutral:\n",
    "#     copyfile(f\"../05_external_folder/images/validation/neutral/{name}\",f\"../05_external_folder/positive_images/validation/neutral/{name}\")\n",
    "# for name in pos_val_sad:\n",
    "#     copyfile(f\"../05_external_folder/images/validation/sad/{name}\",f\"../05_external_folder/positive_images/validation/sad/{name}\")\n",
    "# for name in pos_val_surprise:\n",
    "#     copyfile(f\"../05_external_folder/images/validation/surprise/{name}\",f\"../05_external_folder/positive_images/validation/surprise/{name}\")"
   ]
  }
 ],
 "metadata": {
  "kernelspec": {
   "display_name": "Python 3",
   "language": "python",
   "name": "python3"
  },
  "language_info": {
   "codemirror_mode": {
    "name": "ipython",
    "version": 3
   },
   "file_extension": ".py",
   "mimetype": "text/x-python",
   "name": "python",
   "nbconvert_exporter": "python",
   "pygments_lexer": "ipython3",
   "version": "3.8.3"
  }
 },
 "nbformat": 4,
 "nbformat_minor": 5
}
